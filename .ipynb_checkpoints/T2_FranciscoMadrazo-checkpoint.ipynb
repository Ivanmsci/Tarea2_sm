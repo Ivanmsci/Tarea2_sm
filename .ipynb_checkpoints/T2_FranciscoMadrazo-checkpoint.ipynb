{
 "cells": [
  {
   "cell_type": "markdown",
   "metadata": {},
   "source": [
    "## Primer resumen (Why Python is so popular with developers: 3 reasons the language has exploded)"
   ]
  },
  {
   "cell_type": "markdown",
   "metadata": {},
   "source": [
    " <div class=text-justify> En la actualidad, Python se ha convertido en el lenguaje de mayor crecimiento, ya que cada vez es más utilizado en una gran cantidad de trabajos y proyectos, ya sea en análisis de datos, como en proyectos de desarrollación. Además de esto, se ha convertido en el lenguaje de programación más \"buscado\", tanto por desarrolladores, como por personas que apenas se adentran en este mundo.  \n",
    "\n",
    "Según Kristen Sosulski, profesora de la escuela de negocios de la universidad de Nueva York, la razón por la cual Python se ha vuelto tan popular </div> \n",
    "\n",
    "> **\"Está dada en sus robustas librerías, ya que permiten que este lenguaje sea rápido y dinámico, además de ser un lenguaje orientado a objetos, lo que lo hace capaz de llevar a cabo una gran cantidad de proyectos\"**\n",
    "\n",
    " <div class=text-justify> Además, Python es capaz de facilitar el entendimiento de datos en grandes cantidades, lo que genera una mejor toma de decisiones, por lo que usualmente las empresas enseñan a sus empleados a utilizarlo o contratan personal capacitado en este lenguaje. Las tres razones más importantes por las cuales Python esta dominando en el campo de la programación son las siguientes. </div> \n",
    "\n",
    "\n",
    "### 1. Facilidad de aprendizaje\n",
    "\n",
    "\n",
    " <div class=text-justify> Python es un lenguaje gratificante, dado que poco código, puede llevar a cabo tareas bastante complicadas. Por otro lado, Python es como leer en inglés (en la mayoría de casos), lo que lo convierte en un excelente lenguaje para aquellos que quieren aprender a programar, sin todos los pequeños y tediosos detalles por los que hay que preocuparse en la mayoría de los otros lenguajes de programación, ya que Python se encarga de todo por sí mismo. </div> \n",
    "\n",
    "\n",
    "### 2. El aumento en IA, machine learning, y ciencia de datos en la industria\n",
    "\n",
    "\n",
    "<div class=text-justify>El crecimiento en Python se ha dado en gran medida en el sector de ciencia de datos y, de manera particular, en aquellos sectores encargados del machine learning, Según Julia Silge. </div> \n",
    "\n",
    "\n",
    ">  **\" Python parece ser de mucha utilidad para aquellos que se dedican a la inteligencia artificial o machine learning. Incluso puede llegar a ser de gran utilidad prácticamente en cualquier cosa\"**\n",
    "\n",
    "\n",
    "### 3. Una gran comunidad de desarrolladores\n",
    "\n",
    "Puesto que existe una enorme cantidad de librerías de código abierto, Python se ha usado en juegos, IA o incluso herramientas de productividad. Esto ha hecho que Python tenga una enorme comunidad de desarrolladores multidisciplinarios. Además, la comunidad de Python, es una comunidad unida y amigable con los suyos, por ejemplo [PyLadies](https://www.pyladies.com), organización creada para mujeres y otras minorías interesadas en aprender a programar.  \n",
    "\n",
    "\n",
    "<div class=text-justify>Quizá Python no sea tan rápido como otros lenguajes de programación como Java, sin embargo, es cierto que le toma mucho menos a un desarrollador llevar a cabo un proyecto en Python que en Java. y si a esto le sumamos la enorme comunidad de desarrolladores, cualquier problema que tenga uno de sus miembros respecto de un código, puede resolverse simplemente posteando una pregunta en uno de los muchos foros que hay en la web, volviendo a Python un lenguaje realmente simple y a la vez poderoso. </div> \n"
   ]
  },
  {
   "cell_type": "markdown",
   "metadata": {},
   "source": [
    "____________________________________________________________________________________"
   ]
  },
  {
   "cell_type": "markdown",
   "metadata": {},
   "source": [
    "## Segundo Resumen (Programming language of the year? Python is standout in latest rankings)"
   ]
  },
  {
   "cell_type": "markdown",
   "metadata": {},
   "source": [
    "Python ha ido ganando popularidad a traves de los años en el ranking [Tiobe](https://www.tiobe.com/tiobe-index/), ganandole al crecimiento de lenguajes como Java y VisualBasic.NET, los cuales obtuvieron un incremento de **2.69%** y **3.20%** respectivamente, mientras que python alcanzó un **3.62%**.(Ver Figura 1). \n",
    "\n",
    "\n",
    "<img style=\"float:centered\" src=\"https://zdnet4.cbsistatic.com/hub/i/2019/01/08/87e0bef8-de55-4833-85d8-f5055d04020b/tiobepythonjan19.jpg\" width=\"650px\"/>\n",
    "\n",
    "   **Figura 1. Popularidad de los lenguajes de programación para enero de 2019**\n",
    "   \n",
    "Ya desde desde septiembre, se podia apreciar a Python dentro de el top tres de lenguajes mas populares, gracias al incremento en su uso en diversas áreas de la industria, ademas de ser el rimer lenguaje que se enseña en distintas universidades del mundo. Ademas de esto, Python es el lenguaje mas usado por los hackers dada la simplicidad de su sintaxis y la facilidad para encontrar tutoriales en linea\n",
    "\n",
    "   \n",
    "   \n",
    "   \n",
    "\n",
    "\n"
   ]
  },
  {
   "cell_type": "code",
   "execution_count": null,
   "metadata": {},
   "outputs": [],
   "source": []
  }
 ],
 "metadata": {
  "kernelspec": {
   "display_name": "Python 3",
   "language": "python",
   "name": "python3"
  },
  "language_info": {
   "codemirror_mode": {
    "name": "ipython",
    "version": 3
   },
   "file_extension": ".py",
   "mimetype": "text/x-python",
   "name": "python",
   "nbconvert_exporter": "python",
   "pygments_lexer": "ipython3",
   "version": "3.7.4"
  }
 },
 "nbformat": 4,
 "nbformat_minor": 2
}
