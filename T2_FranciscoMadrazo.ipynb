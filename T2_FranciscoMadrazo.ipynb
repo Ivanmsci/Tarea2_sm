{
 "cells": [
  {
   "cell_type": "markdown",
   "metadata": {},
   "source": [
    "## Primer resumen (Why Python is so popular with developers: 3 reasons the language has exploded)"
   ]
  },
  {
   "cell_type": "markdown",
   "metadata": {},
   "source": [
    "En la actualidad, Python se ha convertido en el lenguaje de mayor crecimiento, ya que cada vez es más utilizado en una gran cantidad de trabajos y proyectos, ya sea en análisis de datos, como en proyectos de desarrollación. Además de esto, se ha convertido en el lenguaje de programación más \"buscado\", tanto por desarrolladores, como por personas que apenas se adentran en este mundo. \n",
    "\n",
    "Según Kristen Sosulski, profesora de la escuela de negocios de la universidad de Nueva York, la razón por la cual Python se ha vuelto tan popular \n",
    "\n",
    "> **\"Está dada en sus robustas librerías, ya que permiten que este lenguaje sea rápido y dinámico, además de ser un lenguaje orientado a objetos, lo que lo hace capaz de llevar a cabo una gran cantidad de proyectos\"**\n",
    "\n",
    "Además, Python es capaz de facilitar el entendimiento de datos en grandes cantidades, lo que genera una mejor toma de decisiones, por lo que usualmente las empresas enseñan a sus empleados a utilizarlo o contratan personal capacitado en este lenguaje. Las tres razones más importantes por las cuales Python esta dominando en el campo de la programación son las siguientes\n",
    "\n",
    "\n",
    "### 1. Facilidad de aprendizaje\n",
    "\n",
    "Python es un lenguaje gratificante, dado que poco código, puede llevar a cabo tareas bastante complicadas. Por otro lado, Python es como leer en inglés (en la mayoría de casos), lo que lo convierte en un excelente lenguaje para aquellos que quieren aprender a programar, sin todos los pequeños y tediosos detalles por los que hay que preocuparse en la mayoría de los otros lenguajes de programación, ya que Python se encarga de todo por sí mismo.\n",
    "\n",
    "\n",
    "### 2. El aumento en IA, machine learning, y ciencia de datos en la industria\n",
    "\n",
    "El crecimiento en Python se ha dado en gran medida en el sector de ciencia de datos y, de manera particular, en aquellos sectores encargados del machine learning, Según Julia Silge.\n",
    "\n",
    "\n",
    ">  **\" Python parece ser de mucha utilidad para aquellos que se dedican a la inteligencia artificial o machine learning. Incluso puede llegar a ser de gran utilidad prácticamente en cualquier cosa\"**\n",
    "\n",
    "\n",
    "### 3. Una gran comunidad de desarrolladores\n",
    "\n",
    "Puesto que existe una enorme cantidad de librerías de código abierto, Python se ha usado en juegos, IA o incluso herramientas de productividad. Esto ha hecho que Python tenga una enorme comunidad de desarrolladores multidisciplinarios. Además, la comunidad de Python, es una comunidad unida y amigable con los suyos, por ejemplo [PyLadies](https://www.pyladies.com), organización creada para mujeres y otras minorías interesadas en aprender a programar.\n",
    "\n",
    "\n",
    "Quizá Python no sea tan rápido como otros lenguajes de programación como Java, sin embargo, es cierto que le toma mucho menos a un desarrollador llevar a cabo un proyecto en Python que en Java. y si a esto le sumamos la enorme comunidad de desarrolladores, cualquier problema que tenga uno de sus miembros respecto de un código, puede resolverse simplemente posteando una pregunta en uno de los muchos foros que hay en la web, volviendo a Python un lenguaje realmente simple y a la vez poderoso. \n"
   ]
  },
  {
   "cell_type": "markdown",
   "metadata": {},
   "source": [
    "____________________________________________________________________________________"
   ]
  }
 ],
 "metadata": {
  "kernelspec": {
   "display_name": "Python 3",
   "language": "python",
   "name": "python3"
  },
  "language_info": {
   "codemirror_mode": {
    "name": "ipython",
    "version": 3
   },
   "file_extension": ".py",
   "mimetype": "text/x-python",
   "name": "python",
   "nbconvert_exporter": "python",
   "pygments_lexer": "ipython3",
   "version": "3.7.4"
  }
 },
 "nbformat": 4,
 "nbformat_minor": 2
}
